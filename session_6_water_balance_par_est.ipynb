{
 "cells": [
  {
   "attachments": {},
   "cell_type": "markdown",
   "metadata": {},
   "source": [
    "## Parameter estimation\n",
    "\n",
    "This notebook explains how to estimate the parameters for the water balance model that we developed during session 5.\n"
   ]
  },
  {
   "cell_type": "code",
   "execution_count": 1,
   "metadata": {},
   "outputs": [],
   "source": [
    "# import the required packages\n",
    "import pandas as pd\n",
    "import numpy as np\n",
    "import matplotlib.pyplot as plt\n",
    "import lmfit"
   ]
  },
  {
   "cell_type": "code",
   "execution_count": 2,
   "metadata": {},
   "outputs": [
    {
     "data": {
      "text/html": [
       "<div>\n",
       "<style scoped>\n",
       "    .dataframe tbody tr th:only-of-type {\n",
       "        vertical-align: middle;\n",
       "    }\n",
       "\n",
       "    .dataframe tbody tr th {\n",
       "        vertical-align: top;\n",
       "    }\n",
       "\n",
       "    .dataframe thead th {\n",
       "        text-align: right;\n",
       "    }\n",
       "</style>\n",
       "<table border=\"1\" class=\"dataframe\">\n",
       "  <thead>\n",
       "    <tr style=\"text-align: right;\">\n",
       "      <th></th>\n",
       "      <th>temperature</th>\n",
       "      <th>rh</th>\n",
       "      <th>rain</th>\n",
       "      <th>wl</th>\n",
       "      <th>volume</th>\n",
       "      <th>area</th>\n",
       "      <th>vpd</th>\n",
       "      <th>evaporation</th>\n",
       "      <th>Cl_sample</th>\n",
       "      <th>delta_18O_sample</th>\n",
       "      <th>delta_2H_sample</th>\n",
       "    </tr>\n",
       "  </thead>\n",
       "  <tbody>\n",
       "    <tr>\n",
       "      <th>2013-08-25</th>\n",
       "      <td>11.25</td>\n",
       "      <td>81.0</td>\n",
       "      <td>0.0</td>\n",
       "      <td>-0.481333</td>\n",
       "      <td>1188.982978</td>\n",
       "      <td>1309.122275</td>\n",
       "      <td>0.253591</td>\n",
       "      <td>4.483474</td>\n",
       "      <td>20.401982</td>\n",
       "      <td>-4.32923</td>\n",
       "      <td>-16.581998</td>\n",
       "    </tr>\n",
       "    <tr>\n",
       "      <th>2013-08-26</th>\n",
       "      <td>10.75</td>\n",
       "      <td>89.5</td>\n",
       "      <td>0.4</td>\n",
       "      <td>-0.491695</td>\n",
       "      <td>1175.444157</td>\n",
       "      <td>1302.024401</td>\n",
       "      <td>0.135561</td>\n",
       "      <td>2.744956</td>\n",
       "      <td>NaN</td>\n",
       "      <td>NaN</td>\n",
       "      <td>NaN</td>\n",
       "    </tr>\n",
       "    <tr>\n",
       "      <th>2013-08-27</th>\n",
       "      <td>13.75</td>\n",
       "      <td>71.0</td>\n",
       "      <td>0.0</td>\n",
       "      <td>-0.498408</td>\n",
       "      <td>1166.708590</td>\n",
       "      <td>1297.418221</td>\n",
       "      <td>0.456128</td>\n",
       "      <td>4.896925</td>\n",
       "      <td>NaN</td>\n",
       "      <td>NaN</td>\n",
       "      <td>NaN</td>\n",
       "    </tr>\n",
       "    <tr>\n",
       "      <th>2013-08-28</th>\n",
       "      <td>14.00</td>\n",
       "      <td>83.0</td>\n",
       "      <td>0.0</td>\n",
       "      <td>-0.505052</td>\n",
       "      <td>1158.090844</td>\n",
       "      <td>1292.853550</td>\n",
       "      <td>0.271763</td>\n",
       "      <td>0.594952</td>\n",
       "      <td>NaN</td>\n",
       "      <td>NaN</td>\n",
       "      <td>NaN</td>\n",
       "    </tr>\n",
       "    <tr>\n",
       "      <th>2013-08-29</th>\n",
       "      <td>14.10</td>\n",
       "      <td>84.5</td>\n",
       "      <td>6.8</td>\n",
       "      <td>-0.505966</td>\n",
       "      <td>1156.907482</td>\n",
       "      <td>1292.225131</td>\n",
       "      <td>0.249396</td>\n",
       "      <td>2.668875</td>\n",
       "      <td>NaN</td>\n",
       "      <td>NaN</td>\n",
       "      <td>NaN</td>\n",
       "    </tr>\n",
       "  </tbody>\n",
       "</table>\n",
       "</div>"
      ],
      "text/plain": [
       "            temperature    rh  rain        wl       volume         area  \\\n",
       "2013-08-25        11.25  81.0   0.0 -0.481333  1188.982978  1309.122275   \n",
       "2013-08-26        10.75  89.5   0.4 -0.491695  1175.444157  1302.024401   \n",
       "2013-08-27        13.75  71.0   0.0 -0.498408  1166.708590  1297.418221   \n",
       "2013-08-28        14.00  83.0   0.0 -0.505052  1158.090844  1292.853550   \n",
       "2013-08-29        14.10  84.5   6.8 -0.505966  1156.907482  1292.225131   \n",
       "\n",
       "                 vpd  evaporation  Cl_sample  delta_18O_sample  \\\n",
       "2013-08-25  0.253591     4.483474  20.401982          -4.32923   \n",
       "2013-08-26  0.135561     2.744956        NaN               NaN   \n",
       "2013-08-27  0.456128     4.896925        NaN               NaN   \n",
       "2013-08-28  0.271763     0.594952        NaN               NaN   \n",
       "2013-08-29  0.249396     2.668875        NaN               NaN   \n",
       "\n",
       "            delta_2H_sample  \n",
       "2013-08-25       -16.581998  \n",
       "2013-08-26              NaN  \n",
       "2013-08-27              NaN  \n",
       "2013-08-28              NaN  \n",
       "2013-08-29              NaN  "
      ]
     },
     "execution_count": 2,
     "metadata": {},
     "output_type": "execute_result"
    }
   ],
   "source": [
    "# read the data from excel using pandas\n",
    "df = pd.read_excel('data/water_balance_data.xlsx',\n",
    "                   index_col=0,\n",
    "                   parse_dates=True)\n",
    "df.head()"
   ]
  },
  {
   "cell_type": "code",
   "execution_count": 3,
   "metadata": {},
   "outputs": [],
   "source": [
    "pan_factor = 1.2\n",
    "Cl_0 = 20 # g/m^3 = mg/l\n",
    "Cl_rain = 5 # g/m^3 = mg/l\n",
    "\n",
    "df['P'] = df['area'] * df['rain'] / 1000.\n",
    "df['E'] = df['area'] * df['evaporation'] / (1000. * pan_factor)\n",
    "df['dV'] = -df['volume'].diff(periods=-1)\n",
    "df['I'] = df['P'] - df['E'] - df['dV']\n",
    "\n",
    "M_Cl_g = np.empty(len(df))\n",
    "conc_Cl = np.empty(len(df))\n",
    "\n",
    "P = df[\"P\"].to_numpy()\n",
    "I = df[\"I\"].to_numpy()\n",
    "V = df[\"volume\"].to_numpy()\n",
    "for i, (Vi, Pi, Ii) in enumerate(zip(V, P, I)):\n",
    "    if i == 0: # First day\n",
    "        M_Cl_g[0] = Vi * Cl_0\n",
    "        conc_Cl[0] = M_Cl_g[0] / Vi # Gives Cl_0 of course!\n",
    "    else:\n",
    "        M_Cl_g[i] = M_Cl_g[i - 1] + dM_P - dM_I\n",
    "        conc_Cl[i] = M_Cl_g[i] / Vi\n",
    "\n",
    "    dM_P = Cl_rain * Pi\n",
    "    dM_I = conc_Cl[i] * Ii\n",
    "\n",
    "df[\"conc_Cl\"] = conc_Cl"
   ]
  },
  {
   "attachments": {},
   "cell_type": "markdown",
   "metadata": {},
   "source": [
    "Let's plot the calculated chloride concentrations, as well as the measured ones. The result isn't too bad, except that there appears to be a diverging trend in time. This will be dealt with in the next session."
   ]
  },
  {
   "cell_type": "code",
   "execution_count": 4,
   "metadata": {},
   "outputs": [
    {
     "data": {
      "text/plain": [
       "<Axes: >"
      ]
     },
     "execution_count": 4,
     "metadata": {},
     "output_type": "execute_result"
    },
    {
     "data": {
      "image/png": "[encoded data removed]",
      "text/plain": [
       "<Figure size 800x400 with 2 Axes>"
      ]
     },
     "metadata": {},
     "output_type": "display_data"
    }
   ],
   "source": [
    "fig, axes = plt.subplots(2, 1, figsize=(8,4))\n",
    "df[\"conc_Cl\"].plot(ax=axes[0])\n",
    "df[\"Cl_sample\"].plot(ax=axes[0], marker='o')\n",
    "\n",
    "(df['Cl_sample'] - df['conc_Cl']).plot(ax=axes[1], marker='.')"
   ]
  },
  {
   "attachments": {},
   "cell_type": "markdown",
   "metadata": {},
   "source": [
    "## Estimate concentration parameters\n",
    "\n",
    "The lmfit package can be used to estimate the pan factor and the chloride concentration of the rain. We use these steps for this:\n",
    "1. Create a function to calculate the Chloride concentration given the two parameters: pan factor and chloride concentration.\n",
    "2. Create an objective function in Python that will calculate the residuals from the parameters. This function will call the function in step 1.\n",
    "3. Run the lmfit minimize function to find the optimal values"
   ]
  },
  {
   "cell_type": "code",
   "execution_count": 5,
   "metadata": {},
   "outputs": [],
   "source": [
    "def get_conc_cl(pan_factor, Cl_rain):\n",
    "    \"\"\" get the chloride concentration over time\n",
    "    \n",
    "    Parameters\n",
    "    ----------\n",
    "    pan_factor : float\n",
    "        pan evaporation factor\n",
    "    Cl_rain : float\n",
    "        chloride concentration of the rain\n",
    "\n",
    "    Returns\n",
    "    -------\n",
    "    df : pandas DataFrame\n",
    "        dataframe with calculate concentration as a column    \n",
    "    \"\"\"\n",
    "    Cl_0 = 20 # g/m^3 = mg/l\n",
    "\n",
    "    df['P'] = df['area'] * df['rain'] / 1000.\n",
    "    df['E'] = df['area'] * df['evaporation'] / (pan_factor) / 1000.\n",
    "    df['dV'] = -df['volume'].diff(periods=-1)\n",
    "    df['I'] = df['P'] - df['E'] - df['dV']\n",
    "\n",
    "    M_Cl_g = np.empty(len(df))\n",
    "    conc_Cl = np.empty(len(df))\n",
    "\n",
    "    P = df[\"P\"].to_numpy()\n",
    "    I = df[\"I\"].to_numpy()\n",
    "    V = df[\"volume\"].to_numpy()\n",
    "    for i, (Vi, Pi, Ii) in enumerate(zip(V, P, I)):\n",
    "        if i == 0: # First day\n",
    "            M_Cl_g[0] = Vi * Cl_0\n",
    "            conc_Cl[0] = M_Cl_g[0] / Vi # Gives Cl_0 of course!\n",
    "        else:\n",
    "            M_Cl_g[i] = M_Cl_g[i - 1] + dM_P - dM_I\n",
    "            conc_Cl[i] = M_Cl_g[i] / Vi\n",
    "\n",
    "        dM_P = Cl_rain * Pi\n",
    "        dM_I = conc_Cl[i] * Ii\n",
    "\n",
    "    df[\"conc_Cl\"] = conc_Cl\n",
    "\n",
    "    return df"
   ]
  },
  {
   "cell_type": "code",
   "execution_count": 6,
   "metadata": {},
   "outputs": [],
   "source": [
    "def obj_cl_compare(pars):\n",
    "    \"\"\" objective function, compares calculated chloride concentration with \n",
    "    measurements.\n",
    "\n",
    "    Parameters\n",
    "    ----------\n",
    "    pars : lmfit Parameters\n",
    "        parameters with optimization settings\n",
    "    \n",
    "    Returns\n",
    "    -------\n",
    "    numpy array with differences measured - modelled concentrations\n",
    "    \"\"\"\n",
    "    parvals = pars.valuesdict()\n",
    "    pan_factor = parvals['pan_factor']\n",
    "    Cl_rain = parvals['Cl_rain']\n",
    "\n",
    "    df = get_conc_cl(pan_factor, Cl_rain)\n",
    "\n",
    "    return (df['Cl_sample'] - df['conc_Cl']).dropna().values"
   ]
  },
  {
   "cell_type": "code",
   "execution_count": 7,
   "metadata": {
    "scrolled": true
   },
   "outputs": [
    {
     "data": {
      "text/html": [
       "<h2>Fit Statistics</h2><table><tr><td>fitting method</td><td>leastsq</td><td></td></tr><tr><td># function evals</td><td>13</td><td></td></tr><tr><td># data points</td><td>17</td><td></td></tr><tr><td># variables</td><td>2</td><td></td></tr><tr><td>chi-square</td><td> 1.28987498</td><td></td></tr><tr><td>reduced chi-square</td><td> 0.08599167</td><td></td></tr><tr><td>Akaike info crit.</td><td>-39.8373567</td><td></td></tr><tr><td>Bayesian info crit.</td><td>-38.1709301</td><td></td></tr></table><h2>Variables</h2><table><tr><th> name </th><th> value </th><th> standard error </th><th> relative error </th><th> initial value </th><th> min </th><th> max </th><th> vary </th></tr><tr><td> pan_factor </td><td>  1.36618612 </td><td>  0.06398724 </td><td> (4.68%) </td><td> 1.2 </td><td>  0.10000000 </td><td>  3.00000000 </td><td> True </td></tr><tr><td> Cl_rain </td><td>  4.52270303 </td><td>  2.78904548 </td><td> (61.67%) </td><td> 5.0 </td><td>  1.0000e-05 </td><td>  20.0000000 </td><td> True </td></tr></table><h2>Correlations (unreported correlations are < 0.100)</h2><table><tr><td>pan_factor</td><td>Cl_rain</td><td>+0.9657</td></tr></table>"
      ],
      "text/plain": [
       "<lmfit.minimizer.MinimizerResult at 0x1ab275f3250>"
      ]
     },
     "execution_count": 7,
     "metadata": {},
     "output_type": "execute_result"
    }
   ],
   "source": [
    "parameters = lmfit.Parameters()\n",
    "parameters.add('pan_factor', value=1.2, min=0.1, max=3.0)\n",
    "parameters.add('Cl_rain', value=5.0, min=0.00001, max=20.0)\n",
    "mini = lmfit.Minimizer(userfcn=obj_cl_compare,\n",
    "                       calc_covar=True,\n",
    "                       params=parameters)\n",
    "result = mini.minimize(method=\"leastsq\")\n",
    "result"
   ]
  },
  {
   "cell_type": "code",
   "execution_count": 9,
   "metadata": {},
   "outputs": [
    {
     "data": {
      "text/plain": [
       "<Axes: >"
      ]
     },
     "execution_count": 9,
     "metadata": {},
     "output_type": "execute_result"
    },
    {
     "data": {
      "image/png": "[encoded data removed]",
      "text/plain": [
       "<Figure size 800x400 with 2 Axes>"
      ]
     },
     "metadata": {},
     "output_type": "display_data"
    }
   ],
   "source": [
    "fig, axes = plt.subplots(2, 1, figsize=(8,4))\n",
    "df = get_conc_cl(1.36618612, 4.52270303)\n",
    "df[\"conc_Cl\"].plot(ax=axes[0])\n",
    "df[\"Cl_sample\"].plot(ax=axes[0], marker='o')\n",
    "\n",
    "(df['Cl_sample'] - df['conc_Cl']).plot(ax=axes[1], marker='.')"
   ]
  }
 ],
 "metadata": {
  "kernelspec": {
   "display_name": "Python 3 (ipykernel)",
   "language": "python",
   "name": "python3"
  },
  "language_info": {
   "codemirror_mode": {
    "name": "ipython",
    "version": 3
   },
   "file_extension": ".py",
   "mimetype": "text/x-python",
   "name": "python",
   "nbconvert_exporter": "python",
   "pygments_lexer": "ipython3",
   "version": "3.9.16"
  }
 },
 "nbformat": 4,
 "nbformat_minor": 4
}
