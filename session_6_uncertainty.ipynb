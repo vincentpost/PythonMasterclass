{
 "cells": [
  {
   "attachments": {},
   "cell_type": "markdown",
   "metadata": {},
   "source": [
    "## Model sensitivity and uncertainty analysis\n",
    "\n",
    "This notebook demonstrates a few different ways in which the effect of model parameters on the model outcomes can be quantified using Python. It is not a formal discussion of model sensitivity and uncertainty analysis. The main aim is to demonstrate the flexibility of Python when it comes to running models mulitple times, and to show the effect on the model outcome. To this end we use the chloride mass balance model for the farm dam. Parameters that are considered to be uncertain are the pan factor, the rainfall chloride concentration and the measured rainfall, evaporation and water volume."
   ]
  },
  {
   "cell_type": "code",
   "execution_count": null,
   "metadata": {},
   "outputs": [],
   "source": [
    "# import the required packages\n",
    "import pandas as pd\n",
    "import numpy as np\n",
    "import matplotlib.pyplot as plt"
   ]
  },
  {
   "attachments": {},
   "cell_type": "markdown",
   "metadata": {},
   "source": [
    "Before we can do any calculations we need to import the file with the measured data."
   ]
  },
  {
   "cell_type": "code",
   "execution_count": null,
   "metadata": {},
   "outputs": [],
   "source": [
    "df = pd.read_excel('data/water_balance_data.xlsx',\n",
    "                   index_col=0,\n",
    "                   parse_dates=True)\n",
    "df.head()"
   ]
  },
  {
   "attachments": {},
   "cell_type": "markdown",
   "metadata": {},
   "source": [
    "Next we will draw a number of samples from a normal distribution that respresent the uncertainty of the pan factor. The true value of the pan factor that was used to create the synthetic sample points was 1.3, which we'll use as the mean. Note that a slightly higher value was found during the calibration with `lmfit`, and that the standard error (i.e. the standard deviation) is also higher, simply because it is then easier to see the differences between the model runs.\n",
    "\n",
    "The code below uses the `scipy.stats` module to define a normal probability distribution with a mean $\\mu_p$ and a standard deviation $\\sigma_p$. The value of variable `N` defines the number of values that will be used to draw the probability density function. The `norm` function is used to create the normal distribution and is stored as `dist_p`. The values for the pan factors on the x axis are defined by first calculating the value that corresponds to the 1 and 99 percent percentiles. These values are used as limits for the range of `N` x values. The probability densities for `xp` are stored in `yp` and are obtained using the `pdf` method of `dist_p`."
   ]
  },
  {
   "cell_type": "code",
   "execution_count": null,
   "metadata": {},
   "outputs": [],
   "source": [
    "from scipy.stats import norm\n",
    "\n",
    "N = 100\n",
    "\n",
    "mu_p = 1.3\n",
    "sigma_p = 0.1\n",
    "\n",
    "dist_p = norm(loc=mu_p, scale=sigma_p)\n",
    "\n",
    "# Get the percentile values\n",
    "x001 = dist_p.ppf(0.01)\n",
    "x099 = dist_p.ppf(0.99)\n",
    "print(f\"The pan factor that corresponds to the 1% percentile is {x001}\")\n",
    "print(f\"The pan factor that corresponds to the 99% percentile is {x099}\")\n",
    "\n",
    "# Define the values for the x axis\n",
    "xp = np.linspace(\n",
    "    x001, \n",
    "    x099,\n",
    "    N,\n",
    ")\n",
    "\n",
    "# Use the values in xp to get the corresponding probability densities\n",
    "yp = dist_p.pdf(xp)\n",
    "\n",
    "# Plot the probability density curve\n",
    "plt.plot(xp, yp);"
   ]
  },
  {
   "attachments": {},
   "cell_type": "markdown",
   "metadata": {},
   "source": [
    "The `cdf` method of `dist_p` returns the cummulative probabilities and can be used to draw the cummulative probability distribution."
   ]
  },
  {
   "cell_type": "code",
   "execution_count": null,
   "metadata": {},
   "outputs": [],
   "source": [
    "ypc = dist_p.cdf(xp)\n",
    "plt.plot(xp, ypc);"
   ]
  },
  {
   "attachments": {},
   "cell_type": "markdown",
   "metadata": {},
   "source": [
    "Let's draw five pan factors from the distribution. The selected values roughly encompass the 95% and 68% confidence intervals and the median average is also included."
   ]
  },
  {
   "cell_type": "code",
   "execution_count": null,
   "metadata": {},
   "outputs": [],
   "source": [
    "sample_percentiles = [0.025, 0.16, 0.5, 0.84, 0.975]\n",
    "pan_factors = dist_p.ppf(sample_percentiles)\n",
    "plt.plot(xp, ypc)\n",
    "plt.plot(pan_factors, sample_percentiles, 'o')"
   ]
  },
  {
   "attachments": {},
   "cell_type": "markdown",
   "metadata": {},
   "source": [
    "The chloride mass balance is implemented as a function. Note that it takes the DataFrame `df` as an argument, which is not striclty necessary at this point, but it will be later on."
   ]
  },
  {
   "cell_type": "code",
   "execution_count": null,
   "metadata": {},
   "outputs": [],
   "source": [
    "Cl_0 = 20 # g/m^3 = mg/l\n",
    "\n",
    "def get_conc_cl(df, pan_factor=1.3, Cl_rain=2):\n",
    "    df['P'] = df['area'] * df['rain'] / 1000.\n",
    "    df['E'] = df['area'] * df['evaporation'] / (1000. * pan_factor)\n",
    "    df['dV'] = -df['volume'].diff(periods=-1)\n",
    "    df['I'] = df['P'] - df['E'] - df['dV']\n",
    "    M_Cl_g = np.empty(len(df))\n",
    "    conc_Cl = np.empty(len(df))\n",
    "\n",
    "    P = df[\"P\"].to_numpy()\n",
    "    I = df[\"I\"].to_numpy()\n",
    "    V = df[\"volume\"].to_numpy()\n",
    "    for i, (Vi, Pi, Ii) in enumerate(zip(V, P, I)):\n",
    "        if i == 0: # First day\n",
    "            M_Cl_g[0] = Vi * Cl_0\n",
    "            conc_Cl[0] = M_Cl_g[0] / Vi # Gives Cl_0 of course!\n",
    "        else:\n",
    "            M_Cl_g[i] = M_Cl_g[i - 1] + dM_P - dM_I\n",
    "            conc_Cl[i] = M_Cl_g[i] / Vi\n",
    "\n",
    "        dM_P = Cl_rain * Pi\n",
    "        dM_I = conc_Cl[i] * Ii\n",
    "\n",
    "    return conc_Cl"
   ]
  },
  {
   "attachments": {},
   "cell_type": "markdown",
   "metadata": {},
   "source": [
    "With the five different realizations of the pan factor, its effect on the model outcome can be visualized. All it takes is a short `for` loop that steps through the selected pan factors and calls the `get_conc` function each time, and then plots the calculated chloride concentrations as a function of time. The last line of code also draws the sample data points."
   ]
  },
  {
   "cell_type": "code",
   "execution_count": null,
   "metadata": {},
   "outputs": [],
   "source": [
    "fig, ax = plt.subplots(figsize=(8,2))\n",
    "\n",
    "for pan_factor in pan_factors:\n",
    "    Cl = get_conc_cl(df, pan_factor=pan_factor)\n",
    "    ax.plot(df.index, Cl)\n",
    "\n",
    "plt.plot(df.index, df[\"Cl_sample\"], 'o')"
   ]
  },
  {
   "attachments": {},
   "cell_type": "markdown",
   "metadata": {},
   "source": [
    "***Exercise***: Draw five values from a normal distribution of rainfall chloride concentrations (choose a mean and standard deviation that you think are reasonable)."
   ]
  },
  {
   "cell_type": "code",
   "execution_count": null,
   "metadata": {},
   "outputs": [],
   "source": [
    "# Type your code here"
   ]
  },
  {
   "attachments": {},
   "cell_type": "markdown",
   "metadata": {},
   "source": [
    "Let's now run the model again, varying both the pan factor and the rainfall chloride concentration at the same time. The thing we need to remember though is that the realizations of both the pan factors and the rainfall chloride concentrations were drawn in the same order, that is the values in `pan_factors` and `Cl_rains` are both in increasing order. To fix this, we can use the `shuffle` function from `nunmpy.random`. We do this by creating an array of index values with which we can slice `pan_factors` and `Cl_rains` and use `shuffle` to put them in random order. The result is illustrate below by printing the output to the screen."
   ]
  },
  {
   "cell_type": "code",
   "execution_count": null,
   "metadata": {},
   "outputs": [],
   "source": [
    "indices = np.arange(len(pan_factors), dtype=int) \n",
    "np.random.shuffle(indices)\n",
    "print(indices)\n",
    "\n",
    "print(pan_factors)\n",
    "pan_factors = pan_factors[indices]\n",
    "print(pan_factors)\n",
    "\n",
    "# Shuffle again\n",
    "np.random.shuffle(indices)\n",
    "print(indices)\n",
    "\n",
    "print(Cl_rains)\n",
    "Cl_rains = Cl_rains[indices]\n",
    "print(Cl_rains)"
   ]
  },
  {
   "attachments": {},
   "cell_type": "markdown",
   "metadata": {},
   "source": [
    "Let's plot the result"
   ]
  },
  {
   "cell_type": "code",
   "execution_count": null,
   "metadata": {},
   "outputs": [],
   "source": [
    "fig, ax = plt.subplots(figsize=(8,2))\n",
    "for pan_factor, Cl_rain in zip(pan_factors, Cl_rains):\n",
    "    Cl = get_conc_cl(df, pan_factor=pan_factor, Cl_rain=Cl_rain)\n",
    "    ax.plot(df.index, Cl)\n",
    "ax.plot(df.index, df[\"Cl_sample\"], 'o')"
   ]
  },
  {
   "attachments": {},
   "cell_type": "markdown",
   "metadata": {},
   "source": [
    "The final example also takes into consideration the uncertainty of the rainfall measurements. Note how a ~10% random error (assumed to be normally distributed) is added to each value in the `rain` column of `df`. The 10% is approximate, it is the result of using a standard deviation of 0.033 for the normal distribution (with about 99.7% of values being within three standard deviations from the mean)."
   ]
  },
  {
   "cell_type": "code",
   "execution_count": null,
   "metadata": {},
   "outputs": [],
   "source": [
    "Cl_0 = 20 # g/m^3 = mg/l\n",
    "\n",
    "def get_conc_cl(df, pan_factor=1.3, Cl_rain=2, sd1=0.033):\n",
    "    e_rain = np.random.normal(0, sd1, len(df['rain'])) * df['rain']\n",
    "    df['rain'] = df['rain'] + e_rain\n",
    "    df['evaporation'] = df['evaporation'] \n",
    "    df['volume'] = df['volume'] \n",
    "    df['P'] = df['area'] * df['rain'] / 1000.\n",
    "    df['E'] = df['area'] * df['evaporation'] / (1000. * pan_factor)\n",
    "    df['dV'] = -df['volume'].diff(periods=-1)\n",
    "    df['I'] = df['P'] - df['E'] - df['dV']\n",
    "    M_Cl_g = np.empty(len(df))\n",
    "    conc_Cl = np.empty(len(df))\n",
    "\n",
    "    P = df[\"P\"].to_numpy()\n",
    "    I = df[\"I\"].to_numpy()\n",
    "    V = df[\"volume\"].to_numpy()\n",
    "    for i, (Vi, Pi, Ii) in enumerate(zip(V, P, I)):\n",
    "        if i == 0: # First day\n",
    "            M_Cl_g[0] = Vi * Cl_0\n",
    "            conc_Cl[0] = M_Cl_g[0] / Vi # Gives Cl_0 of course!\n",
    "        else:\n",
    "            M_Cl_g[i] = M_Cl_g[i - 1] + dM_P - dM_I\n",
    "            conc_Cl[i] = M_Cl_g[i] / Vi\n",
    "\n",
    "        dM_P = Cl_rain * Pi\n",
    "        dM_I = conc_Cl[i] * Ii\n",
    "\n",
    "    return conc_Cl"
   ]
  },
  {
   "attachments": {},
   "cell_type": "markdown",
   "metadata": {},
   "source": [
    "Because our model runs very fast we can easily run it 100 times. The lines plot close to one another, which resembles an uncertainty band. In the next session we'll look into how we can improve the appearance of graphs like this one."
   ]
  },
  {
   "cell_type": "code",
   "execution_count": null,
   "metadata": {},
   "outputs": [],
   "source": [
    "fig, ax = plt.subplots(figsize=(8,4))\n",
    "for n in range(100):\n",
    "    Cl = get_conc_cl(df.copy(), sd1=0.033)\n",
    "    ax.plot(df.index, Cl)\n",
    "ax.plot(df.index, df[\"Cl_sample\"], 'o')"
   ]
  },
  {
   "attachments": {},
   "cell_type": "markdown",
   "metadata": {},
   "source": [
    "***Exercise (homework)***: Use the code examples above to create a series of 100 model runs in which the pan factor, rainfall chloride concentration as well as the measured rainfall, evaporation and the dam water volume are all stochastic parameters."
   ]
  }
 ],
 "metadata": {
  "kernelspec": {
   "display_name": "Python 3 (ipykernel)",
   "language": "python",
   "name": "python3"
  },
  "language_info": {
   "codemirror_mode": {
    "name": "ipython",
    "version": 3
   },
   "file_extension": ".py",
   "mimetype": "text/x-python",
   "name": "python",
   "nbconvert_exporter": "python",
   "pygments_lexer": "ipython3",
   "version": "3.9.16"
  }
 },
 "nbformat": 4,
 "nbformat_minor": 4
}
