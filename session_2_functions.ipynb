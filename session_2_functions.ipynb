{
 "cells": [
  {
   "attachments": {},
   "cell_type": "markdown",
   "metadata": {},
   "source": [
    "## Functions\n",
    "\n",
    "A function is a block of code that performs a specific taks and is only executed when it is called from somewhere else inside your program. You typically create functions when certain tasks have to be executed several times. So as a general rule, when you're programming and you find that you are repeating the same lines of code twice or more, then it is time to think about bundling them into a function. This leaves less room for errors and it makes your code much easier to read and understand. Moreover, it is less work to change the function than it is to change the code in all the places where repetition occurs.\n",
    "\n",
    "The code block below demonstrates how a function is defined. The first line starts with `def`, which tells Python that you plan to define a function. After `def` comes the name of the function, `describe_person` in this case. After the function name come parentheses. In this example, the word `name` appears between parentheses, meaning that the function `describe_person` accepts an *argument*, which in this case is called `name`. Effectively, `name` is a variable that will be available inside (and only inside) the function. Note that the line with the function definition must end with a colon, and that all code that belongs to the function must be indented."
   ]
  },
  {
   "cell_type": "code",
   "execution_count": 27,
   "metadata": {},
   "outputs": [],
   "source": [
    "def describe_person(name):\n",
    "    if name == \"Vincent\":\n",
    "        print(\"Vincent is one of the instructors of the Python Masterclass\")\n",
    "    elif name == \"Anushree\":\n",
    "        print(\"Anushree is the AWS support person during the Python Masterclass\")\n",
    "    elif name == \"Stacey\":\n",
    "        print(\"Stacey is attending the Python Masterclass\")\n",
    "    else:\n",
    "        print(\"Name is unknown, not sure what message to print for this person.\")"
   ]
  },
  {
   "attachments": {},
   "cell_type": "markdown",
   "metadata": {},
   "source": [
    "The function contains a series of conditional statements that check the value of `name` and print a certain message to the screen depending on the name provided. Calling the function (this is programming terminology for executing the function) is done in the following way"
   ]
  },
  {
   "cell_type": "code",
   "execution_count": 26,
   "metadata": {},
   "outputs": [
    {
     "name": "stdout",
     "output_type": "stream",
     "text": [
      "Stacey is attending the Python Masterclass\n"
     ]
    }
   ],
   "source": [
    "describe_person(\"Stacey\")"
   ]
  },
  {
   "attachments": {},
   "cell_type": "markdown",
   "metadata": {},
   "source": [
    "It is not compulsory for a function to accept arguments, so the following function definition is fine as well"
   ]
  },
  {
   "cell_type": "code",
   "execution_count": 3,
   "metadata": {},
   "outputs": [],
   "source": [
    "def func_without_args():\n",
    "    print(\"This function does not accept arguments\")"
   ]
  },
  {
   "attachments": {},
   "cell_type": "markdown",
   "metadata": {},
   "source": [
    "To execute the function it needs to be called like this"
   ]
  },
  {
   "cell_type": "code",
   "execution_count": 4,
   "metadata": {},
   "outputs": [
    {
     "name": "stdout",
     "output_type": "stream",
     "text": [
      "This function does not accept arguments\n"
     ]
    }
   ],
   "source": [
    "func_without_args()"
   ]
  },
  {
   "attachments": {},
   "cell_type": "markdown",
   "metadata": {},
   "source": [
    "When you call a function without parentheses it only shows a reference to the function."
   ]
  },
  {
   "cell_type": "code",
   "execution_count": 5,
   "metadata": {},
   "outputs": [
    {
     "data": {
      "text/plain": [
       "<function __main__.func_without_args()>"
      ]
     },
     "execution_count": 5,
     "metadata": {},
     "output_type": "execute_result"
    }
   ],
   "source": [
    "func_without_args"
   ]
  },
  {
   "attachments": {},
   "cell_type": "markdown",
   "metadata": {},
   "source": [
    "***Exercise 1***: Add your own description to the function definition of `describe_person()`. Then call the function with your name as the argument."
   ]
  },
  {
   "cell_type": "code",
   "execution_count": 6,
   "metadata": {},
   "outputs": [],
   "source": [
    "# Modify the code below\n",
    "def describe_person(name):\n",
    "    if name == \"Vincent\":\n",
    "        print(\"Vincent is one of the instructors of the Python Masterclass\")\n",
    "    elif name == \"Anushree\":\n",
    "        print(\"Anushree is the AWS support person during the Python Masterclass\")\n",
    "    else:\n",
    "        print(\"Name is unknown, not sure what message to print for this person.\")"
   ]
  },
  {
   "attachments": {},
   "cell_type": "markdown",
   "metadata": {},
   "source": [
    "A function can also return a value. For example"
   ]
  },
  {
   "cell_type": "code",
   "execution_count": 12,
   "metadata": {},
   "outputs": [],
   "source": [
    "def describe_person(name):\n",
    "    if name == \"Vincent\":\n",
    "        rv = \"Vincent is one of the instructors of the Python Masterclass\"\n",
    "    elif name == \"Anushree\":\n",
    "        rv = \"Anushree is the AWS support person during the Python Masterclass\"\n",
    "    elif name == \"Stacey\":\n",
    "        rv = \"Stacey is attending the Python Masterclass\"\n",
    "    else:\n",
    "        rv = \"Name is unknown, not sure what message to print for this person.\"\n",
    "    \n",
    "    return rv"
   ]
  },
  {
   "attachments": {},
   "cell_type": "markdown",
   "metadata": {},
   "source": [
    "Now it can be called in the following way"
   ]
  },
  {
   "cell_type": "code",
   "execution_count": 13,
   "metadata": {},
   "outputs": [
    {
     "name": "stdout",
     "output_type": "stream",
     "text": [
      "Stacey is attending the Python Masterclass\n"
     ]
    }
   ],
   "source": [
    "msg = describe_person(\"Stacey\")\n",
    "print(msg)"
   ]
  },
  {
   "attachments": {},
   "cell_type": "markdown",
   "metadata": {},
   "source": [
    "A function can have multiple arguments. It can also have optional arguments, which are called *keyword arguments* (or simply *kwargs*) in Python. A keyword argument is defined by specifying a default value within the function definition. In the example below `age` becomes a keyword argument because a default value of 23 years is assigned to it using the equal sign."
   ]
  },
  {
   "cell_type": "code",
   "execution_count": 15,
   "metadata": {},
   "outputs": [],
   "source": [
    "def describe_person(name, age=23):    \n",
    "    return f\"{name} is {age} years old.\""
   ]
  },
  {
   "attachments": {},
   "cell_type": "markdown",
   "metadata": {},
   "source": [
    "Note that in the above code, use is made of a formatted string. It can be recognised by the `f` that precedes the first double quote of the string. In a formatted string, any variable enclosed between curly brackets (in this case `name` and `age`) will be substituted by its value.\n",
    "\n",
    "The function can now be called like this"
   ]
  },
  {
   "cell_type": "code",
   "execution_count": 16,
   "metadata": {},
   "outputs": [
    {
     "name": "stdout",
     "output_type": "stream",
     "text": [
      "Vincent is 29 years old.\n"
     ]
    }
   ],
   "source": [
    "msg = describe_person(\"Vincent\", 29)\n",
    "print(msg)"
   ]
  },
  {
   "attachments": {},
   "cell_type": "markdown",
   "metadata": {},
   "source": [
    "Or like this"
   ]
  },
  {
   "cell_type": "code",
   "execution_count": 17,
   "metadata": {},
   "outputs": [
    {
     "name": "stdout",
     "output_type": "stream",
     "text": [
      "Anushree is 23 years old.\n"
     ]
    }
   ],
   "source": [
    "msg = describe_person(\"Anushree\")\n",
    "print(msg)"
   ]
  },
  {
   "attachments": {},
   "cell_type": "markdown",
   "metadata": {},
   "source": [
    "Note that keyword arguments must always come after non-keyword arguments, otherwise Python will throw an error."
   ]
  },
  {
   "attachments": {},
   "cell_type": "markdown",
   "metadata": {},
   "source": [
    "***Exercise 2***: Add the keyword argument `nationality` to the `describe_person()` function. Use the argument in your function and call the function."
   ]
  },
  {
   "cell_type": "code",
   "execution_count": 18,
   "metadata": {},
   "outputs": [],
   "source": [
    "# Modify the code below\n",
    "def describe_person(name, age=23):    \n",
    "    return f\"{name} is {age} years old.\""
   ]
  },
  {
   "attachments": {},
   "cell_type": "markdown",
   "metadata": {},
   "source": [
    "## Docstrings\n",
    "It is common practice to document the behaviour of a function using a so-called *docstring*. First of all, a docstring should describe what the function's purpose is. Then it provides information about the arguments (or parameters) that must/can be passed to the function, and the value that the function returns."
   ]
  },
  {
   "cell_type": "code",
   "execution_count": 29,
   "metadata": {},
   "outputs": [],
   "source": [
    "def describe_person(name, age=23):\n",
    "    \"\"\"\n",
    "    This function returns a message with a persons name and age.\n",
    "    \n",
    "    Parameters\n",
    "    ----------\n",
    "    name : str\n",
    "        A string with the name of the person.\n",
    "    age : int, optional\n",
    "        An integer with the person's age in years. Default: 23.\n",
    "        \n",
    "    Returns\n",
    "    -------\n",
    "    result : str\n",
    "        A string containing the message.\n",
    "    \"\"\"\n",
    "    return f\"{name} is {age} years old.\""
   ]
  },
  {
   "attachments": {},
   "cell_type": "markdown",
   "metadata": {},
   "source": [
    "Suddenly our code got a lot longer and the time involved in creating good docstrings should not be underestimated. But they are an essential part of good coding practice because they allow others to understand what the function does. This includes the users of your program, other developers and yourself when you return to a piece of code several years after you last worked on it.\n",
    "\n",
    "The style used in the code cell above follows the convections for the <A href=\"https://numpydoc.readthedocs.io/en/latest/format.html\">numpydoc extension for Sphinx</A>. Sphinx is a tool that creates the documentation of your code project partially based on the docstrings you have provided, so writing good docstrings can save you lots of time later on when you want to share your code with others.\n",
    "\n",
    "The docstring also serves to provide interactive help about a function within an IDE, or a notebook environment. For example, in Jupyter notebook or Jupyter lab, we can now get help on our function by typing"
   ]
  },
  {
   "cell_type": "code",
   "execution_count": 30,
   "metadata": {},
   "outputs": [
    {
     "name": "stdout",
     "output_type": "stream",
     "text": [
      "\u001b[1;31mSignature:\u001b[0m \u001b[0mdescribe_person\u001b[0m\u001b[1;33m(\u001b[0m\u001b[0mname\u001b[0m\u001b[1;33m,\u001b[0m \u001b[0mage\u001b[0m\u001b[1;33m=\u001b[0m\u001b[1;36m23\u001b[0m\u001b[1;33m)\u001b[0m\u001b[1;33m\u001b[0m\u001b[1;33m\u001b[0m\u001b[0m\n",
      "\u001b[1;31mDocstring:\u001b[0m\n",
      "This function returns a message with a persons name and age.\n",
      "\n",
      "Parameters\n",
      "----------\n",
      "name : str\n",
      "    A string with the name of the person.\n",
      "age : int, optional\n",
      "    An integer with the person's age in years. Default: 23.\n",
      "    \n",
      "Returns\n",
      "-------\n",
      "result : str\n",
      "    A string containing the message.\n",
      "\u001b[1;31mFile:\u001b[0m      c:\\users\\pri258\\appdata\\local\\temp\\ipykernel_28044\\381386399.py\n",
      "\u001b[1;31mType:\u001b[0m      function"
     ]
    }
   ],
   "source": [
    "describe_person?"
   ]
  },
  {
   "attachments": {},
   "cell_type": "markdown",
   "metadata": {},
   "source": [
    "or"
   ]
  },
  {
   "cell_type": "code",
   "execution_count": 21,
   "metadata": {},
   "outputs": [
    {
     "name": "stdout",
     "output_type": "stream",
     "text": [
      "Help on function describe_person in module __main__:\n",
      "\n",
      "describe_person(name, age=23)\n",
      "    This function returns a message with a persons name and age.\n",
      "    \n",
      "    Parameters\n",
      "    ----------\n",
      "    name : str\n",
      "        A string with the name of the person.\n",
      "    age : int, optional\n",
      "        An integer with the person's age in years. Default: 23.\n",
      "        \n",
      "    Returns\n",
      "    -------\n",
      "    result : str\n",
      "        A string containing the message.\n",
      "\n"
     ]
    }
   ],
   "source": [
    "help(describe_person)"
   ]
  },
  {
   "attachments": {},
   "cell_type": "markdown",
   "metadata": {},
   "source": [
    "In an IDE, typing the function name followed by the opening parenthesis genereally results in a window popping up with the docstring. In a workbook environment you can try the function name followed by the opening parenthesis and then hitting Shift + Tab (from experience this does not work in all cases, but give it a try in the code cell below)"
   ]
  },
  {
   "cell_type": "code",
   "execution_count": 22,
   "metadata": {},
   "outputs": [
    {
     "ename": "SyntaxError",
     "evalue": "unexpected EOF while parsing (4222750075.py, line 1)",
     "output_type": "error",
     "traceback": [
      "\u001b[1;36m  Cell \u001b[1;32mIn[22], line 1\u001b[1;36m\u001b[0m\n\u001b[1;33m    describe_person( # Place your cursor after the opening parenthesis and hit Shift + Tab to display the docstring\u001b[0m\n\u001b[1;37m                                                                                                                   ^\u001b[0m\n\u001b[1;31mSyntaxError\u001b[0m\u001b[1;31m:\u001b[0m unexpected EOF while parsing\n"
     ]
    }
   ],
   "source": [
    "describe_person( # Place your cursor after the opening parenthesis and hit Shift + Tab to display the docstring"
   ]
  },
  {
   "attachments": {},
   "cell_type": "markdown",
   "metadata": {},
   "source": [
    "## Checking arguments\n",
    "\n",
    "The following function calculates the square of $x$ when $x <= 0$ and the square root of $x$ when $x > 0$ (not sure when you'd ever need this but it is just an example)"
   ]
  },
  {
   "cell_type": "code",
   "execution_count": 43,
   "metadata": {},
   "outputs": [],
   "source": [
    "import numpy as np\n",
    "\n",
    "def funky_function(x):\n",
    "    if x <= 0:\n",
    "        return x ** 2\n",
    "    else:\n",
    "        return np.sqrt(x)"
   ]
  },
  {
   "attachments": {},
   "cell_type": "markdown",
   "metadata": {},
   "source": [
    "Printing the result for $x = -10$ and $x = 10$ demonstrates that it works"
   ]
  },
  {
   "cell_type": "code",
   "execution_count": 44,
   "metadata": {},
   "outputs": [
    {
     "name": "stdout",
     "output_type": "stream",
     "text": [
      "100\n",
      "3.1622776601683795\n"
     ]
    }
   ],
   "source": [
    "print(funky_function(-10))\n",
    "print(funky_function(10))"
   ]
  },
  {
   "attachments": {},
   "cell_type": "markdown",
   "metadata": {},
   "source": [
    "But what if we pass an array to the function? This results in an error because of the `if` statement"
   ]
  },
  {
   "cell_type": "code",
   "execution_count": 45,
   "metadata": {},
   "outputs": [
    {
     "name": "stdout",
     "output_type": "stream",
     "text": [
      "[-10.   0.  10.]\n"
     ]
    },
    {
     "ename": "ValueError",
     "evalue": "The truth value of an array with more than one element is ambiguous. Use a.any() or a.all()",
     "output_type": "error",
     "traceback": [
      "\u001b[1;31m---------------------------------------------------------------------------\u001b[0m",
      "\u001b[1;31mValueError\u001b[0m                                Traceback (most recent call last)",
      "Cell \u001b[1;32mIn[45], line 3\u001b[0m\n\u001b[0;32m      1\u001b[0m x \u001b[39m=\u001b[39m np\u001b[39m.\u001b[39mlinspace(\u001b[39m-\u001b[39m\u001b[39m10\u001b[39m, \u001b[39m10\u001b[39m, \u001b[39m3\u001b[39m)\n\u001b[0;32m      2\u001b[0m \u001b[39mprint\u001b[39m(x)\n\u001b[1;32m----> 3\u001b[0m funky_function(x)\n",
      "Cell \u001b[1;32mIn[43], line 4\u001b[0m, in \u001b[0;36mfunky_function\u001b[1;34m(x)\u001b[0m\n\u001b[0;32m      3\u001b[0m \u001b[39mdef\u001b[39;00m \u001b[39mfunky_function\u001b[39m(x):\n\u001b[1;32m----> 4\u001b[0m     \u001b[39mif\u001b[39;00m x \u001b[39m<\u001b[39;49m\u001b[39m=\u001b[39;49m \u001b[39m0\u001b[39;49m:\n\u001b[0;32m      5\u001b[0m         \u001b[39mreturn\u001b[39;00m x \u001b[39m*\u001b[39m\u001b[39m*\u001b[39m \u001b[39m2\u001b[39m\n\u001b[0;32m      6\u001b[0m     \u001b[39melse\u001b[39;00m:\n",
      "\u001b[1;31mValueError\u001b[0m: The truth value of an array with more than one element is ambiguous. Use a.any() or a.all()"
     ]
    }
   ],
   "source": [
    "x = np.linspace(-10, 10, 3)\n",
    "print(x)\n",
    "funky_function(x)"
   ]
  },
  {
   "attachments": {},
   "cell_type": "markdown",
   "metadata": {},
   "source": [
    "To avoid such things from happening, it is important to add some code to your function that checks the type of x and rewrite the function in such a way that it will work both when `x` is a scalar and an array. There could be multiple ways to do this, for example"
   ]
  },
  {
   "cell_type": "code",
   "execution_count": 53,
   "metadata": {},
   "outputs": [],
   "source": [
    "def funky_function(x):\n",
    "    x = np.atleast_1d(x)\n",
    "    rv = np.empty_like(x)\n",
    "    idx = x <= 0\n",
    "    rv[idx] = x[idx] ** 2\n",
    "    rv[~idx] = np.sqrt(x[~idx])\n",
    "    \n",
    "    return rv"
   ]
  },
  {
   "attachments": {},
   "cell_type": "markdown",
   "metadata": {},
   "source": [
    "Now let's try the code that did not work before"
   ]
  },
  {
   "cell_type": "code",
   "execution_count": 54,
   "metadata": {},
   "outputs": [
    {
     "data": {
      "text/plain": [
       "array([100.        ,   0.        ,   3.16227766])"
      ]
     },
     "execution_count": 54,
     "metadata": {},
     "output_type": "execute_result"
    }
   ],
   "source": [
    "x = np.linspace(-10, 10, 3)\n",
    "funky_function(x)"
   ]
  },
  {
   "attachments": {},
   "cell_type": "markdown",
   "metadata": {},
   "source": [
    "and also try it with a scalar `x`"
   ]
  },
  {
   "cell_type": "code",
   "execution_count": 55,
   "metadata": {},
   "outputs": [
    {
     "data": {
      "text/plain": [
       "array([3.16227766])"
      ]
     },
     "execution_count": 55,
     "metadata": {},
     "output_type": "execute_result"
    }
   ],
   "source": [
    "funky_function(10.)"
   ]
  },
  {
   "attachments": {},
   "cell_type": "markdown",
   "metadata": {},
   "source": [
    "That worked! Or did it? Is the square root of 10 really 3? Well, almost but what happened here is that NumPy rounded the result of the `sqrt` function to the nearest whole number. Why would it do that, since it is clearly wrong?! The answer has to do with variable types. In this case we passed 10, which is an integer. The number got converted to an array with NumPy's `atleast_1d` function, from which the array with the return values was derived using the `empty_like` function. Because the function's input argument `x` was an integer, both arrays end up being integer arrays and the numbers they contain will remain integers, even when you assign a float to an element.\n",
    "\n",
    "This shows that writing functions can be very tricky and that you should always verify that their result is what you intended under the widest range of conceivable circumstances (there are in fact special techniques for this, which are known as unit testing). Now let's solve this issue by ensuring that `rv` is an array of floats, simply by adding `dtype=float` when we create it."
   ]
  },
  {
   "cell_type": "code",
   "execution_count": 56,
   "metadata": {},
   "outputs": [],
   "source": [
    "def funky_function(x):\n",
    "    x = np.atleast_1d(x)\n",
    "    rv = np.empty_like(x, dtype=float)\n",
    "    idx = x <= 0\n",
    "    rv[idx] = x[idx] ** 2\n",
    "    rv[~idx] = np.sqrt(x[~idx])\n",
    "    \n",
    "    return rv"
   ]
  },
  {
   "cell_type": "code",
   "execution_count": 57,
   "metadata": {},
   "outputs": [
    {
     "data": {
      "text/plain": [
       "array([3.16227766])"
      ]
     },
     "execution_count": 57,
     "metadata": {},
     "output_type": "execute_result"
    }
   ],
   "source": [
    "funky_function(10)"
   ]
  },
  {
   "attachments": {},
   "cell_type": "markdown",
   "metadata": {},
   "source": [
    "***Exercise 3***: Now we want to slightly modify the function so that it returns a scalar when the argument $x$ was also a scalar (and not an array). *Hint*: you can use the `len(rv)` function to check the number of elements in `rv`."
   ]
  },
  {
   "cell_type": "code",
   "execution_count": 63,
   "metadata": {},
   "outputs": [
    {
     "name": "stdout",
     "output_type": "stream",
     "text": [
      "3.1622776601683795\n",
      "[-10.   0.  10.]\n"
     ]
    }
   ],
   "source": [
    "# Modify the code below\n",
    "\n",
    "def funky_function(x):\n",
    "    x = np.atleast_1d(x)\n",
    "    rv = np.empty_like(x, dtype=float)\n",
    "    idx = x <= 0\n",
    "    rv[idx] = x[idx] ** 2\n",
    "    rv[~idx] = np.sqrt(x[~idx])\n",
    "       \n",
    "    return rv[0] if len(rv) == 1 else rv\n",
    "\n",
    "print(funky_function(10))\n",
    "print(np.linspace(-10, 10, 3))"
   ]
  },
  {
   "attachments": {},
   "cell_type": "markdown",
   "metadata": {},
   "source": [
    "Does this mean we are done now? Not quite. What if a user calls our function and accidentally passes a string variable rather than a number?"
   ]
  },
  {
   "cell_type": "code",
   "execution_count": 64,
   "metadata": {},
   "outputs": [
    {
     "ename": "TypeError",
     "evalue": "'<=' not supported between instances of 'numpy.ndarray' and 'int'",
     "output_type": "error",
     "traceback": [
      "\u001b[1;31m---------------------------------------------------------------------------\u001b[0m",
      "\u001b[1;31mTypeError\u001b[0m                                 Traceback (most recent call last)",
      "Cell \u001b[1;32mIn[64], line 1\u001b[0m\n\u001b[1;32m----> 1\u001b[0m funky_function(\u001b[39m'\u001b[39;49m\u001b[39mten\u001b[39;49m\u001b[39m'\u001b[39;49m)\n",
      "Cell \u001b[1;32mIn[63], line 6\u001b[0m, in \u001b[0;36mfunky_function\u001b[1;34m(x)\u001b[0m\n\u001b[0;32m      4\u001b[0m x \u001b[39m=\u001b[39m np\u001b[39m.\u001b[39matleast_1d(x)\n\u001b[0;32m      5\u001b[0m rv \u001b[39m=\u001b[39m np\u001b[39m.\u001b[39mempty_like(x, dtype\u001b[39m=\u001b[39m\u001b[39mfloat\u001b[39m)\n\u001b[1;32m----> 6\u001b[0m idx \u001b[39m=\u001b[39m x \u001b[39m<\u001b[39;49m\u001b[39m=\u001b[39;49m \u001b[39m0\u001b[39;49m\n\u001b[0;32m      7\u001b[0m rv[idx] \u001b[39m=\u001b[39m x[idx] \u001b[39m*\u001b[39m\u001b[39m*\u001b[39m \u001b[39m2\u001b[39m\n\u001b[0;32m      8\u001b[0m rv[\u001b[39m~\u001b[39midx] \u001b[39m=\u001b[39m np\u001b[39m.\u001b[39msqrt(x[\u001b[39m~\u001b[39midx])\n",
      "\u001b[1;31mTypeError\u001b[0m: '<=' not supported between instances of 'numpy.ndarray' and 'int'"
     ]
    }
   ],
   "source": [
    "funky_function('ten')"
   ]
  },
  {
   "attachments": {},
   "cell_type": "markdown",
   "metadata": {},
   "source": [
    "Obviously that didn't work. If this were a real function that was being used inside a `for` loop for example, the program would crash. As a programmer you have to think of ways to prevent such things from happening. One way would be to embed the code inside the function between `try` and `except` statements. The code under `try` gets executed but when an error occurs, Python jumps to the `except` part where you can specify what needs to happen in that case. In this example, it probably makes most sense to issue some sort of warning and return an empty return value, which is available in Python as `None'"
   ]
  },
  {
   "cell_type": "code",
   "execution_count": 65,
   "metadata": {},
   "outputs": [],
   "source": [
    "def funky_function(x):\n",
    "    try:\n",
    "        # The code lines below are the same as before\n",
    "        x = np.atleast_1d(x)\n",
    "        rv = np.empty_like(x, dtype=float)\n",
    "        idx = x <= 0\n",
    "        rv[idx] = x[idx] ** 2\n",
    "        rv[~idx] = np.sqrt(x[~idx])\n",
    "\n",
    "        return rv\n",
    "    except:\n",
    "        print(\"Warning: an error occurred. Check input argument.\")\n",
    "        return None"
   ]
  },
  {
   "attachments": {},
   "cell_type": "markdown",
   "metadata": {},
   "source": [
    "Now let's try if it worked by embedding the function inside a `for` loop"
   ]
  },
  {
   "cell_type": "code",
   "execution_count": 66,
   "metadata": {},
   "outputs": [
    {
     "name": "stdout",
     "output_type": "stream",
     "text": [
      "[100.]\n",
      "[0.]\n",
      "[3.16227766]\n",
      "Warning: an error occurred. Check input argument.\n",
      "None\n"
     ]
    }
   ],
   "source": [
    "for x in [-10, 0, 10, 'ten']:\n",
    "    y = funky_function(x)\n",
    "    print(y)"
   ]
  },
  {
   "attachments": {},
   "cell_type": "markdown",
   "metadata": {},
   "source": [
    "Finally, let's have a look at how we can set up the code within the for loop to ensure that our program does not crash when we try to add the first element of the array `y` to a list. Since we know that `funky_function` returns `None` when an error occurred, and an array otherwise, we can check for this condition, and only add the first element of `y` when `y` is not `None`."
   ]
  },
  {
   "cell_type": "code",
   "execution_count": 67,
   "metadata": {},
   "outputs": [
    {
     "name": "stdout",
     "output_type": "stream",
     "text": [
      "Warning: an error occurred. Check input argument.\n",
      "[100.0, 0.0, 3.1622776601683795]\n"
     ]
    }
   ],
   "source": [
    "meaningful_results = []\n",
    "for x in [-10, 0, 10, 'ten']:\n",
    "    y = funky_function(x)\n",
    "    if y is not None:\n",
    "        meaningful_results.append(y[0])\n",
    "\n",
    "print(meaningful_results)"
   ]
  },
  {
   "attachments": {},
   "cell_type": "markdown",
   "metadata": {},
   "source": []
  },
  {
   "attachments": {},
   "cell_type": "markdown",
   "metadata": {},
   "source": [
    "Checking for errors can be a lot of work and require lots and lots of lines of code. Nonetheless it should become an integral part of your coding as the potential for incorrect results is enormous."
   ]
  }
 ],
 "metadata": {
  "kernelspec": {
   "display_name": "Python 3 (ipykernel)",
   "language": "python",
   "name": "python3"
  },
  "language_info": {
   "codemirror_mode": {
    "name": "ipython",
    "version": 3
   },
   "file_extension": ".py",
   "mimetype": "text/x-python",
   "name": "python",
   "nbconvert_exporter": "python",
   "pygments_lexer": "ipython3",
   "version": "3.9.16"
  }
 },
 "nbformat": 4,
 "nbformat_minor": 4
}
